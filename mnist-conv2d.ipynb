{
 "cells": [
  {
   "cell_type": "code",
   "execution_count": 1,
   "id": "232a461c",
   "metadata": {
    "execution": {
     "iopub.execute_input": "2023-03-17T21:47:52.069388Z",
     "iopub.status.busy": "2023-03-17T21:47:52.067936Z",
     "iopub.status.idle": "2023-03-17T21:48:05.190849Z",
     "shell.execute_reply": "2023-03-17T21:48:05.189881Z"
    },
    "papermill": {
     "duration": 13.133486,
     "end_time": "2023-03-17T21:48:05.193529",
     "exception": false,
     "start_time": "2023-03-17T21:47:52.060043",
     "status": "completed"
    },
    "tags": []
   },
   "outputs": [
    {
     "data": {
      "text/html": [
       "<div>\n",
       "<style scoped>\n",
       "    .dataframe tbody tr th:only-of-type {\n",
       "        vertical-align: middle;\n",
       "    }\n",
       "\n",
       "    .dataframe tbody tr th {\n",
       "        vertical-align: top;\n",
       "    }\n",
       "\n",
       "    .dataframe thead th {\n",
       "        text-align: right;\n",
       "    }\n",
       "</style>\n",
       "<table border=\"1\" class=\"dataframe\">\n",
       "  <thead>\n",
       "    <tr style=\"text-align: right;\">\n",
       "      <th></th>\n",
       "      <th>label</th>\n",
       "      <th>pixel0</th>\n",
       "      <th>pixel1</th>\n",
       "      <th>pixel2</th>\n",
       "      <th>pixel3</th>\n",
       "      <th>pixel4</th>\n",
       "      <th>pixel5</th>\n",
       "      <th>pixel6</th>\n",
       "      <th>pixel7</th>\n",
       "      <th>pixel8</th>\n",
       "      <th>...</th>\n",
       "      <th>pixel774</th>\n",
       "      <th>pixel775</th>\n",
       "      <th>pixel776</th>\n",
       "      <th>pixel777</th>\n",
       "      <th>pixel778</th>\n",
       "      <th>pixel779</th>\n",
       "      <th>pixel780</th>\n",
       "      <th>pixel781</th>\n",
       "      <th>pixel782</th>\n",
       "      <th>pixel783</th>\n",
       "    </tr>\n",
       "  </thead>\n",
       "  <tbody>\n",
       "    <tr>\n",
       "      <th>0</th>\n",
       "      <td>1</td>\n",
       "      <td>0</td>\n",
       "      <td>0</td>\n",
       "      <td>0</td>\n",
       "      <td>0</td>\n",
       "      <td>0</td>\n",
       "      <td>0</td>\n",
       "      <td>0</td>\n",
       "      <td>0</td>\n",
       "      <td>0</td>\n",
       "      <td>...</td>\n",
       "      <td>0</td>\n",
       "      <td>0</td>\n",
       "      <td>0</td>\n",
       "      <td>0</td>\n",
       "      <td>0</td>\n",
       "      <td>0</td>\n",
       "      <td>0</td>\n",
       "      <td>0</td>\n",
       "      <td>0</td>\n",
       "      <td>0</td>\n",
       "    </tr>\n",
       "    <tr>\n",
       "      <th>1</th>\n",
       "      <td>0</td>\n",
       "      <td>0</td>\n",
       "      <td>0</td>\n",
       "      <td>0</td>\n",
       "      <td>0</td>\n",
       "      <td>0</td>\n",
       "      <td>0</td>\n",
       "      <td>0</td>\n",
       "      <td>0</td>\n",
       "      <td>0</td>\n",
       "      <td>...</td>\n",
       "      <td>0</td>\n",
       "      <td>0</td>\n",
       "      <td>0</td>\n",
       "      <td>0</td>\n",
       "      <td>0</td>\n",
       "      <td>0</td>\n",
       "      <td>0</td>\n",
       "      <td>0</td>\n",
       "      <td>0</td>\n",
       "      <td>0</td>\n",
       "    </tr>\n",
       "    <tr>\n",
       "      <th>2</th>\n",
       "      <td>1</td>\n",
       "      <td>0</td>\n",
       "      <td>0</td>\n",
       "      <td>0</td>\n",
       "      <td>0</td>\n",
       "      <td>0</td>\n",
       "      <td>0</td>\n",
       "      <td>0</td>\n",
       "      <td>0</td>\n",
       "      <td>0</td>\n",
       "      <td>...</td>\n",
       "      <td>0</td>\n",
       "      <td>0</td>\n",
       "      <td>0</td>\n",
       "      <td>0</td>\n",
       "      <td>0</td>\n",
       "      <td>0</td>\n",
       "      <td>0</td>\n",
       "      <td>0</td>\n",
       "      <td>0</td>\n",
       "      <td>0</td>\n",
       "    </tr>\n",
       "    <tr>\n",
       "      <th>3</th>\n",
       "      <td>4</td>\n",
       "      <td>0</td>\n",
       "      <td>0</td>\n",
       "      <td>0</td>\n",
       "      <td>0</td>\n",
       "      <td>0</td>\n",
       "      <td>0</td>\n",
       "      <td>0</td>\n",
       "      <td>0</td>\n",
       "      <td>0</td>\n",
       "      <td>...</td>\n",
       "      <td>0</td>\n",
       "      <td>0</td>\n",
       "      <td>0</td>\n",
       "      <td>0</td>\n",
       "      <td>0</td>\n",
       "      <td>0</td>\n",
       "      <td>0</td>\n",
       "      <td>0</td>\n",
       "      <td>0</td>\n",
       "      <td>0</td>\n",
       "    </tr>\n",
       "    <tr>\n",
       "      <th>4</th>\n",
       "      <td>0</td>\n",
       "      <td>0</td>\n",
       "      <td>0</td>\n",
       "      <td>0</td>\n",
       "      <td>0</td>\n",
       "      <td>0</td>\n",
       "      <td>0</td>\n",
       "      <td>0</td>\n",
       "      <td>0</td>\n",
       "      <td>0</td>\n",
       "      <td>...</td>\n",
       "      <td>0</td>\n",
       "      <td>0</td>\n",
       "      <td>0</td>\n",
       "      <td>0</td>\n",
       "      <td>0</td>\n",
       "      <td>0</td>\n",
       "      <td>0</td>\n",
       "      <td>0</td>\n",
       "      <td>0</td>\n",
       "      <td>0</td>\n",
       "    </tr>\n",
       "  </tbody>\n",
       "</table>\n",
       "<p>5 rows × 785 columns</p>\n",
       "</div>"
      ],
      "text/plain": [
       "   label  pixel0  pixel1  pixel2  pixel3  pixel4  pixel5  pixel6  pixel7  \\\n",
       "0      1       0       0       0       0       0       0       0       0   \n",
       "1      0       0       0       0       0       0       0       0       0   \n",
       "2      1       0       0       0       0       0       0       0       0   \n",
       "3      4       0       0       0       0       0       0       0       0   \n",
       "4      0       0       0       0       0       0       0       0       0   \n",
       "\n",
       "   pixel8  ...  pixel774  pixel775  pixel776  pixel777  pixel778  pixel779  \\\n",
       "0       0  ...         0         0         0         0         0         0   \n",
       "1       0  ...         0         0         0         0         0         0   \n",
       "2       0  ...         0         0         0         0         0         0   \n",
       "3       0  ...         0         0         0         0         0         0   \n",
       "4       0  ...         0         0         0         0         0         0   \n",
       "\n",
       "   pixel780  pixel781  pixel782  pixel783  \n",
       "0         0         0         0         0  \n",
       "1         0         0         0         0  \n",
       "2         0         0         0         0  \n",
       "3         0         0         0         0  \n",
       "4         0         0         0         0  \n",
       "\n",
       "[5 rows x 785 columns]"
      ]
     },
     "execution_count": 1,
     "metadata": {},
     "output_type": "execute_result"
    }
   ],
   "source": [
    "from tensorflow import keras\n",
    "from tensorflow.keras import layers\n",
    "import numpy as np\n",
    "import pandas as pd\n",
    "from sklearn.model_selection import train_test_split\n",
    "from keras.utils import to_categorical\n",
    "import matplotlib.pyplot as plt\n",
    "\n",
    "df = pd.read_csv('/kaggle/input/digit-recognizer/train.csv')\n",
    "\n",
    "df.head(5)"
   ]
  },
  {
   "cell_type": "code",
   "execution_count": 2,
   "id": "0380aaa5",
   "metadata": {
    "execution": {
     "iopub.execute_input": "2023-03-17T21:48:05.203436Z",
     "iopub.status.busy": "2023-03-17T21:48:05.202853Z",
     "iopub.status.idle": "2023-03-17T21:48:05.637316Z",
     "shell.execute_reply": "2023-03-17T21:48:05.635994Z"
    },
    "papermill": {
     "duration": 0.442622,
     "end_time": "2023-03-17T21:48:05.640261",
     "exception": false,
     "start_time": "2023-03-17T21:48:05.197639",
     "status": "completed"
    },
    "tags": []
   },
   "outputs": [],
   "source": [
    "# Extract targets\n",
    "\n",
    "y = df['label']\n",
    "del df['label']\n",
    "\n",
    "# Splitting data on train and test\n",
    "\n",
    "x_train, x_test, y_train, y_test = train_test_split(\n",
    "    df, y, test_size = 0.2, random_state = 13)"
   ]
  },
  {
   "cell_type": "code",
   "execution_count": 3,
   "id": "16df1191",
   "metadata": {
    "execution": {
     "iopub.execute_input": "2023-03-17T21:48:05.650300Z",
     "iopub.status.busy": "2023-03-17T21:48:05.649501Z",
     "iopub.status.idle": "2023-03-17T21:48:05.732288Z",
     "shell.execute_reply": "2023-03-17T21:48:05.731198Z"
    },
    "papermill": {
     "duration": 0.091178,
     "end_time": "2023-03-17T21:48:05.735334",
     "exception": false,
     "start_time": "2023-03-17T21:48:05.644156",
     "status": "completed"
    },
    "tags": []
   },
   "outputs": [],
   "source": [
    "# Transform features data to 2D-array \n",
    "\n",
    "x_train = x_train.values.reshape((-1, 28, 28, 1))\n",
    "x_train = x_train.astype(\"float32\") / 255\n",
    "x_test = x_test.values.reshape((-1, 28, 28, 1))\n",
    "x_test = x_test.astype(\"float32\") / 255\n",
    "\n",
    "# Transform target data to binary\n",
    "\n",
    "y_train = to_categorical(y_train)\n",
    "y_test = to_categorical(y_test)"
   ]
  },
  {
   "cell_type": "code",
   "execution_count": 4,
   "id": "e49cf7f8",
   "metadata": {
    "execution": {
     "iopub.execute_input": "2023-03-17T21:48:05.744866Z",
     "iopub.status.busy": "2023-03-17T21:48:05.744417Z",
     "iopub.status.idle": "2023-03-17T21:48:06.323131Z",
     "shell.execute_reply": "2023-03-17T21:48:06.321614Z"
    },
    "papermill": {
     "duration": 0.598043,
     "end_time": "2023-03-17T21:48:06.337256",
     "exception": false,
     "start_time": "2023-03-17T21:48:05.739213",
     "status": "completed"
    },
    "tags": []
   },
   "outputs": [
    {
     "name": "stdout",
     "output_type": "stream",
     "text": [
      "Model: \"sequential\"\n",
      "_________________________________________________________________\n",
      " Layer (type)                Output Shape              Param #   \n",
      "=================================================================\n",
      " conv2d (Conv2D)             (None, 26, 26, 32)        320       \n",
      "                                                                 \n",
      " batch_normalization (BatchN  (None, 26, 26, 32)       128       \n",
      " ormalization)                                                   \n",
      "                                                                 \n",
      " max_pooling2d (MaxPooling2D  (None, 13, 13, 32)       0         \n",
      " )                                                               \n",
      "                                                                 \n",
      " dropout (Dropout)           (None, 13, 13, 32)        0         \n",
      "                                                                 \n",
      " conv2d_1 (Conv2D)           (None, 11, 11, 64)        18496     \n",
      "                                                                 \n",
      " batch_normalization_1 (Batc  (None, 11, 11, 64)       256       \n",
      " hNormalization)                                                 \n",
      "                                                                 \n",
      " max_pooling2d_1 (MaxPooling  (None, 5, 5, 64)         0         \n",
      " 2D)                                                             \n",
      "                                                                 \n",
      " dropout_1 (Dropout)         (None, 5, 5, 64)          0         \n",
      "                                                                 \n",
      " conv2d_2 (Conv2D)           (None, 3, 3, 64)          36928     \n",
      "                                                                 \n",
      " batch_normalization_2 (Batc  (None, 3, 3, 64)         256       \n",
      " hNormalization)                                                 \n",
      "                                                                 \n",
      " conv2d_3 (Conv2D)           (None, 1, 1, 64)          36928     \n",
      "                                                                 \n",
      " flatten (Flatten)           (None, 64)                0         \n",
      "                                                                 \n",
      " dense (Dense)               (None, 64)                4160      \n",
      "                                                                 \n",
      " batch_normalization_3 (Batc  (None, 64)               256       \n",
      " hNormalization)                                                 \n",
      "                                                                 \n",
      " dropout_2 (Dropout)         (None, 64)                0         \n",
      "                                                                 \n",
      " dense_1 (Dense)             (None, 32)                2080      \n",
      "                                                                 \n",
      " dense_2 (Dense)             (None, 10)                330       \n",
      "                                                                 \n",
      "=================================================================\n",
      "Total params: 100,138\n",
      "Trainable params: 99,690\n",
      "Non-trainable params: 448\n",
      "_________________________________________________________________\n"
     ]
    }
   ],
   "source": [
    "# Model building\n",
    "\n",
    "model = keras.Sequential([\n",
    "    layers.Conv2D(32, (3, 3), activation = \"relu\", input_shape = (28, 28, 1)),\n",
    "    layers.BatchNormalization(),\n",
    "    layers.MaxPooling2D((2, 2)),\n",
    "    layers.Dropout(0.2),\n",
    "    layers.Conv2D(64, (3, 3), activation = \"relu\"),\n",
    "    layers.BatchNormalization(),\n",
    "    layers.MaxPooling2D((2, 2)),\n",
    "    layers.Dropout(0.1),\n",
    "    layers.Conv2D(64, (3, 3), activation = \"relu\"),\n",
    "    layers.BatchNormalization(),\n",
    "    layers.Conv2D(64, (3, 3), activation = \"relu\"),\n",
    "    layers.Flatten(),\n",
    "    layers.Dense(64, activation = \"relu\"),\n",
    "    layers.BatchNormalization(),\n",
    "    layers.Dropout(0.1),\n",
    "    layers.Dense(32, activation = \"relu\"),\n",
    "    layers.Dense(10, activation = \"softmax\")\n",
    "])\n",
    "\n",
    "model.compile(optimizer = \"Adam\",\n",
    "             loss = \"categorical_crossentropy\",\n",
    "             metrics = [\"accuracy\"])\n",
    "\n",
    "model.summary()"
   ]
  },
  {
   "cell_type": "code",
   "execution_count": 5,
   "id": "1893cb67",
   "metadata": {
    "execution": {
     "iopub.execute_input": "2023-03-17T21:48:06.352577Z",
     "iopub.status.busy": "2023-03-17T21:48:06.352183Z",
     "iopub.status.idle": "2023-03-17T21:54:17.953488Z",
     "shell.execute_reply": "2023-03-17T21:54:17.952360Z"
    },
    "papermill": {
     "duration": 371.612164,
     "end_time": "2023-03-17T21:54:17.956126",
     "exception": false,
     "start_time": "2023-03-17T21:48:06.343962",
     "status": "completed"
    },
    "tags": []
   },
   "outputs": [
    {
     "name": "stdout",
     "output_type": "stream",
     "text": [
      "Epoch 1/10\n",
      "525/525 [==============================] - 28s 48ms/step - loss: 0.2707 - accuracy: 0.9215 - val_loss: 0.0942 - val_accuracy: 0.9750\n",
      "Epoch 2/10\n",
      "525/525 [==============================] - 24s 46ms/step - loss: 0.0750 - accuracy: 0.9767 - val_loss: 0.0643 - val_accuracy: 0.9812\n",
      "Epoch 3/10\n",
      "525/525 [==============================] - 31s 59ms/step - loss: 0.0518 - accuracy: 0.9845 - val_loss: 0.0533 - val_accuracy: 0.9851\n",
      "Epoch 4/10\n",
      "525/525 [==============================] - 35s 67ms/step - loss: 0.0407 - accuracy: 0.9872 - val_loss: 0.0547 - val_accuracy: 0.9843\n",
      "Epoch 5/10\n",
      "525/525 [==============================] - 59s 113ms/step - loss: 0.0338 - accuracy: 0.9887 - val_loss: 0.0493 - val_accuracy: 0.9860\n",
      "Epoch 6/10\n",
      "525/525 [==============================] - 60s 114ms/step - loss: 0.0327 - accuracy: 0.9899 - val_loss: 0.0457 - val_accuracy: 0.9864\n",
      "Epoch 7/10\n",
      "525/525 [==============================] - 47s 90ms/step - loss: 0.0295 - accuracy: 0.9900 - val_loss: 0.0514 - val_accuracy: 0.9863\n",
      "Epoch 8/10\n",
      "525/525 [==============================] - 30s 58ms/step - loss: 0.0234 - accuracy: 0.9927 - val_loss: 0.0452 - val_accuracy: 0.9888\n",
      "Epoch 9/10\n",
      "525/525 [==============================] - 28s 53ms/step - loss: 0.0221 - accuracy: 0.9929 - val_loss: 0.0380 - val_accuracy: 0.9892\n",
      "Epoch 10/10\n",
      "525/525 [==============================] - 28s 53ms/step - loss: 0.0206 - accuracy: 0.9937 - val_loss: 0.0455 - val_accuracy: 0.9865\n"
     ]
    },
    {
     "data": {
      "text/plain": [
       "dict_keys(['loss', 'accuracy', 'val_loss', 'val_accuracy'])"
      ]
     },
     "execution_count": 5,
     "metadata": {},
     "output_type": "execute_result"
    }
   ],
   "source": [
    "# Fit it and save HISTORY\n",
    "\n",
    "history = model.fit(x_train,\n",
    "                    y_train,\n",
    "                    epochs = 10, \n",
    "                    batch_size = 64, \n",
    "                    validation_data = (x_test, y_test))\n",
    "\n",
    "history_dict = history.history\n",
    "history_dict.keys()"
   ]
  },
  {
   "cell_type": "code",
   "execution_count": 6,
   "id": "2092f01b",
   "metadata": {
    "execution": {
     "iopub.execute_input": "2023-03-17T21:54:18.521662Z",
     "iopub.status.busy": "2023-03-17T21:54:18.520813Z",
     "iopub.status.idle": "2023-03-17T21:54:19.026202Z",
     "shell.execute_reply": "2023-03-17T21:54:19.024512Z"
    },
    "papermill": {
     "duration": 0.791478,
     "end_time": "2023-03-17T21:54:19.029917",
     "exception": false,
     "start_time": "2023-03-17T21:54:18.238439",
     "status": "completed"
    },
    "tags": []
   },
   "outputs": [
    {
     "data": {
      "image/png": "[encoded data removed]",
      "text/plain": [
       "<Figure size 640x480 with 1 Axes>"
      ]
     },
     "metadata": {},
     "output_type": "display_data"
    },
    {
     "data": {
      "image/png": "[encoded data removed]",
      "text/plain": [
       "<Figure size 640x480 with 1 Axes>"
      ]
     },
     "metadata": {},
     "output_type": "display_data"
    }
   ],
   "source": [
    "# Visualization of training process, epoch/loss\n",
    "\n",
    "history_dict = history.history\n",
    "loss_values = history_dict[\"loss\"]\n",
    "val_loss_values = history_dict[\"val_loss\"]\n",
    "epochs = range(1, len(loss_values) + 1)\n",
    "plt.plot(epochs, loss_values, \"bo\", label = \"Training loss\")\n",
    "plt.plot(epochs, val_loss_values, \"b\", label = \"Validation loss\")\n",
    "plt.title(\"Training and validation loss\")\n",
    "plt.xlabel(\"Epochs\")\n",
    "plt.ylabel(\"Loss\")\n",
    "plt.legend()\n",
    "plt.show()\n",
    "\n",
    "# Visualization of training process, epoch/accuracy\n",
    "\n",
    "plt.clf()\n",
    "acc = history_dict[\"accuracy\"]\n",
    "val_acc = history_dict[\"val_accuracy\"]\n",
    "plt.plot(epochs, acc, \"bo\", label = \"Training acc\")\n",
    "plt.plot(epochs, val_acc, \"b\", label = \"Validation acc\")\n",
    "plt.title(\"Training and validation accuracy\")\n",
    "plt.xlabel(\"Epochs\")\n",
    "plt.ylabel(\"Accuracy\")\n",
    "plt.legend()\n",
    "plt.show()"
   ]
  },
  {
   "cell_type": "code",
   "execution_count": 7,
   "id": "8f915b13",
   "metadata": {
    "execution": {
     "iopub.execute_input": "2023-03-17T21:54:19.659456Z",
     "iopub.status.busy": "2023-03-17T21:54:19.658711Z",
     "iopub.status.idle": "2023-03-17T21:54:22.302799Z",
     "shell.execute_reply": "2023-03-17T21:54:22.301242Z"
    },
    "papermill": {
     "duration": 2.993269,
     "end_time": "2023-03-17T21:54:22.306231",
     "exception": false,
     "start_time": "2023-03-17T21:54:19.312962",
     "status": "completed"
    },
    "tags": []
   },
   "outputs": [
    {
     "name": "stdout",
     "output_type": "stream",
     "text": [
      "263/263 [==============================] - 2s 9ms/step - loss: 0.0455 - accuracy: 0.9865\n",
      "test_acc: 0.986547589302063\n"
     ]
    }
   ],
   "source": [
    "# Prediction test\n",
    "\n",
    "test_loss, test_acc = model.evaluate(x_test, y_test)\n",
    "print(f\"test_acc: {test_acc}\")"
   ]
  },
  {
   "cell_type": "code",
   "execution_count": 8,
   "id": "88313140",
   "metadata": {
    "execution": {
     "iopub.execute_input": "2023-03-17T21:54:22.876653Z",
     "iopub.status.busy": "2023-03-17T21:54:22.876214Z",
     "iopub.status.idle": "2023-03-17T21:54:25.250635Z",
     "shell.execute_reply": "2023-03-17T21:54:25.248400Z"
    },
    "papermill": {
     "duration": 2.665811,
     "end_time": "2023-03-17T21:54:25.254486",
     "exception": false,
     "start_time": "2023-03-17T21:54:22.588675",
     "status": "completed"
    },
    "tags": []
   },
   "outputs": [
    {
     "data": {
      "text/plain": [
       "(28000, 28, 28, 1)"
      ]
     },
     "execution_count": 8,
     "metadata": {},
     "output_type": "execute_result"
    }
   ],
   "source": [
    "# Preparing test data\n",
    "\n",
    "test = pd.read_csv('/kaggle/input/digit-recognizer/test.csv')\n",
    "\n",
    "test = test.values.reshape((-1, 28, 28, 1))\n",
    "test = test.astype(\"float32\") / 255\n",
    "\n",
    "test.shape"
   ]
  },
  {
   "cell_type": "code",
   "execution_count": 9,
   "id": "00ff65aa",
   "metadata": {
    "execution": {
     "iopub.execute_input": "2023-03-17T21:54:25.848993Z",
     "iopub.status.busy": "2023-03-17T21:54:25.847321Z",
     "iopub.status.idle": "2023-03-17T21:54:34.066098Z",
     "shell.execute_reply": "2023-03-17T21:54:34.065038Z"
    },
    "papermill": {
     "duration": 8.510002,
     "end_time": "2023-03-17T21:54:34.069011",
     "exception": false,
     "start_time": "2023-03-17T21:54:25.559009",
     "status": "completed"
    },
    "tags": []
   },
   "outputs": [
    {
     "name": "stdout",
     "output_type": "stream",
     "text": [
      "875/875 [==============================] - 8s 8ms/step\n"
     ]
    }
   ],
   "source": [
    "# Predict, concat Label and ImageId columns\n",
    "\n",
    "Label = model.predict(test)\n",
    "\n",
    "ImageId = np.arange(1, 28001)\n",
    "Label = np.argmax(Label, axis = 1)\n",
    "Label = Label.reshape(-1, 1)\n",
    "ImageId = ImageId.reshape(-1, 1)\n",
    "\n",
    "submission = np.concatenate((ImageId, Label), axis = 1)"
   ]
  },
  {
   "cell_type": "code",
   "execution_count": 10,
   "id": "c9c5ae23",
   "metadata": {
    "execution": {
     "iopub.execute_input": "2023-03-17T21:54:34.654571Z",
     "iopub.status.busy": "2023-03-17T21:54:34.653815Z",
     "iopub.status.idle": "2023-03-17T21:54:34.703926Z",
     "shell.execute_reply": "2023-03-17T21:54:34.702189Z"
    },
    "papermill": {
     "duration": 0.34408,
     "end_time": "2023-03-17T21:54:34.707098",
     "exception": false,
     "start_time": "2023-03-17T21:54:34.363018",
     "status": "completed"
    },
    "tags": []
   },
   "outputs": [
    {
     "data": {
      "text/html": [
       "<div>\n",
       "<style scoped>\n",
       "    .dataframe tbody tr th:only-of-type {\n",
       "        vertical-align: middle;\n",
       "    }\n",
       "\n",
       "    .dataframe tbody tr th {\n",
       "        vertical-align: top;\n",
       "    }\n",
       "\n",
       "    .dataframe thead th {\n",
       "        text-align: right;\n",
       "    }\n",
       "</style>\n",
       "<table border=\"1\" class=\"dataframe\">\n",
       "  <thead>\n",
       "    <tr style=\"text-align: right;\">\n",
       "      <th></th>\n",
       "      <th>ImageId</th>\n",
       "      <th>Label</th>\n",
       "    </tr>\n",
       "  </thead>\n",
       "  <tbody>\n",
       "    <tr>\n",
       "      <th>0</th>\n",
       "      <td>1</td>\n",
       "      <td>2</td>\n",
       "    </tr>\n",
       "    <tr>\n",
       "      <th>1</th>\n",
       "      <td>2</td>\n",
       "      <td>0</td>\n",
       "    </tr>\n",
       "    <tr>\n",
       "      <th>2</th>\n",
       "      <td>3</td>\n",
       "      <td>9</td>\n",
       "    </tr>\n",
       "    <tr>\n",
       "      <th>3</th>\n",
       "      <td>4</td>\n",
       "      <td>0</td>\n",
       "    </tr>\n",
       "    <tr>\n",
       "      <th>4</th>\n",
       "      <td>5</td>\n",
       "      <td>3</td>\n",
       "    </tr>\n",
       "    <tr>\n",
       "      <th>5</th>\n",
       "      <td>6</td>\n",
       "      <td>7</td>\n",
       "    </tr>\n",
       "    <tr>\n",
       "      <th>6</th>\n",
       "      <td>7</td>\n",
       "      <td>0</td>\n",
       "    </tr>\n",
       "    <tr>\n",
       "      <th>7</th>\n",
       "      <td>8</td>\n",
       "      <td>3</td>\n",
       "    </tr>\n",
       "    <tr>\n",
       "      <th>8</th>\n",
       "      <td>9</td>\n",
       "      <td>0</td>\n",
       "    </tr>\n",
       "    <tr>\n",
       "      <th>9</th>\n",
       "      <td>10</td>\n",
       "      <td>3</td>\n",
       "    </tr>\n",
       "  </tbody>\n",
       "</table>\n",
       "</div>"
      ],
      "text/plain": [
       "   ImageId  Label\n",
       "0        1      2\n",
       "1        2      0\n",
       "2        3      9\n",
       "3        4      0\n",
       "4        5      3\n",
       "5        6      7\n",
       "6        7      0\n",
       "7        8      3\n",
       "8        9      0\n",
       "9       10      3"
      ]
     },
     "execution_count": 10,
     "metadata": {},
     "output_type": "execute_result"
    }
   ],
   "source": [
    "# Write submission file\n",
    "\n",
    "submission = pd.DataFrame(submission).apply(np.int64)\n",
    "submission = submission.rename(columns = {0: \"ImageId\", 1: \"Label\"})\n",
    "submission.to_csv('/kaggle/working/submission.csv', index=False)\n",
    "submission.head(10)"
   ]
  }
 ],
 "metadata": {
  "kernelspec": {
   "display_name": "Python 3 (ipykernel)",
   "language": "python",
   "name": "python3"
  },
  "language_info": {
   "codemirror_mode": {
    "name": "ipython",
    "version": 3
   },
   "file_extension": ".py",
   "mimetype": "text/x-python",
   "name": "python",
   "nbconvert_exporter": "python",
   "pygments_lexer": "ipython3",
   "version": "3.7.12"
  },
  "papermill": {
   "default_parameters": {},
   "duration": 416.25816,
   "end_time": "2023-03-17T21:54:38.329676",
   "environment_variables": {},
   "exception": null,
   "input_path": "__notebook__.ipynb",
   "output_path": "__notebook__.ipynb",
   "parameters": {},
   "start_time": "2023-03-17T21:47:42.071516",
   "version": "2.4.0"
  }
 },
 "nbformat": 4,
 "nbformat_minor": 5
}
